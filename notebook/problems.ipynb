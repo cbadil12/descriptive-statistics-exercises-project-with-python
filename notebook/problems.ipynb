{
 "cells": [
  {
   "cell_type": "markdown",
   "id": "6805e3f1",
   "metadata": {},
   "source": [
    "# Descriptive Statistics Problems\n",
    "\n",
    "## Exercise 1 – How long are movie titles?\n",
    "\n",
    "In this exercise, you will apply descriptive statistics techniques to a real dataset: a database of 1000 popular movies from the IMDb website.\n",
    "\n",
    "From the title of each movie, you will:\n",
    "- Calculate the title length (in characters).\n",
    "- Obtain key statistical metrics: mean, median, mode, range, variance, standard deviation, skewness, and kurtosis.\n",
    "- Identify the longest and shortest titles.\n",
    "- Visualize the distribution of these lengths with a histogram and a density curve.\n"
   ]
  },
  {
   "cell_type": "code",
   "execution_count": 2,
   "id": "ca3d2c0a",
   "metadata": {},
   "outputs": [
    {
     "data": {
      "text/html": [
       "<div>\n",
       "<style scoped>\n",
       "    .dataframe tbody tr th:only-of-type {\n",
       "        vertical-align: middle;\n",
       "    }\n",
       "\n",
       "    .dataframe tbody tr th {\n",
       "        vertical-align: top;\n",
       "    }\n",
       "\n",
       "    .dataframe thead th {\n",
       "        text-align: right;\n",
       "    }\n",
       "</style>\n",
       "<table border=\"1\" class=\"dataframe\">\n",
       "  <thead>\n",
       "    <tr style=\"text-align: right;\">\n",
       "      <th></th>\n",
       "      <th>star_rating</th>\n",
       "      <th>title</th>\n",
       "      <th>content_rating</th>\n",
       "      <th>genre</th>\n",
       "      <th>duration</th>\n",
       "      <th>actors_list</th>\n",
       "    </tr>\n",
       "  </thead>\n",
       "  <tbody>\n",
       "    <tr>\n",
       "      <th>0</th>\n",
       "      <td>9.3</td>\n",
       "      <td>The Shawshank Redemption</td>\n",
       "      <td>R</td>\n",
       "      <td>Crime</td>\n",
       "      <td>142</td>\n",
       "      <td>[u'Tim Robbins', u'Morgan Freeman', u'Bob Gunt...</td>\n",
       "    </tr>\n",
       "    <tr>\n",
       "      <th>1</th>\n",
       "      <td>9.2</td>\n",
       "      <td>The Godfather</td>\n",
       "      <td>R</td>\n",
       "      <td>Crime</td>\n",
       "      <td>175</td>\n",
       "      <td>[u'Marlon Brando', u'Al Pacino', u'James Caan']</td>\n",
       "    </tr>\n",
       "    <tr>\n",
       "      <th>2</th>\n",
       "      <td>9.1</td>\n",
       "      <td>The Godfather: Part II</td>\n",
       "      <td>R</td>\n",
       "      <td>Crime</td>\n",
       "      <td>200</td>\n",
       "      <td>[u'Al Pacino', u'Robert De Niro', u'Robert Duv...</td>\n",
       "    </tr>\n",
       "    <tr>\n",
       "      <th>3</th>\n",
       "      <td>9.0</td>\n",
       "      <td>The Dark Knight</td>\n",
       "      <td>PG-13</td>\n",
       "      <td>Action</td>\n",
       "      <td>152</td>\n",
       "      <td>[u'Christian Bale', u'Heath Ledger', u'Aaron E...</td>\n",
       "    </tr>\n",
       "    <tr>\n",
       "      <th>4</th>\n",
       "      <td>8.9</td>\n",
       "      <td>Pulp Fiction</td>\n",
       "      <td>R</td>\n",
       "      <td>Crime</td>\n",
       "      <td>154</td>\n",
       "      <td>[u'John Travolta', u'Uma Thurman', u'Samuel L....</td>\n",
       "    </tr>\n",
       "  </tbody>\n",
       "</table>\n",
       "</div>"
      ],
      "text/plain": [
       "   star_rating                     title content_rating   genre  duration  \\\n",
       "0          9.3  The Shawshank Redemption              R   Crime       142   \n",
       "1          9.2             The Godfather              R   Crime       175   \n",
       "2          9.1    The Godfather: Part II              R   Crime       200   \n",
       "3          9.0           The Dark Knight          PG-13  Action       152   \n",
       "4          8.9              Pulp Fiction              R   Crime       154   \n",
       "\n",
       "                                         actors_list  \n",
       "0  [u'Tim Robbins', u'Morgan Freeman', u'Bob Gunt...  \n",
       "1    [u'Marlon Brando', u'Al Pacino', u'James Caan']  \n",
       "2  [u'Al Pacino', u'Robert De Niro', u'Robert Duv...  \n",
       "3  [u'Christian Bale', u'Heath Ledger', u'Aaron E...  \n",
       "4  [u'John Travolta', u'Uma Thurman', u'Samuel L....  "
      ]
     },
     "execution_count": 2,
     "metadata": {},
     "output_type": "execute_result"
    }
   ],
   "source": [
    "# Import libraries\n",
    "import pandas as pd\n",
    "import numpy as np\n",
    "import matplotlib.pyplot as plt\n",
    "from scipy.stats import skew, kurtosis, mode\n",
    "\n",
    "# Load IMDb dataset\n",
    "url = \"../assets/imdb_1000.csv\"\n",
    "df = pd.read_csv(url)\n",
    "df.head()"
   ]
  },
  {
   "cell_type": "code",
   "execution_count": 3,
   "id": "61d39304",
   "metadata": {},
   "outputs": [
    {
     "data": {
      "text/html": [
       "<div>\n",
       "<style scoped>\n",
       "    .dataframe tbody tr th:only-of-type {\n",
       "        vertical-align: middle;\n",
       "    }\n",
       "\n",
       "    .dataframe tbody tr th {\n",
       "        vertical-align: top;\n",
       "    }\n",
       "\n",
       "    .dataframe thead th {\n",
       "        text-align: right;\n",
       "    }\n",
       "</style>\n",
       "<table border=\"1\" class=\"dataframe\">\n",
       "  <thead>\n",
       "    <tr style=\"text-align: right;\">\n",
       "      <th></th>\n",
       "      <th>star_rating</th>\n",
       "      <th>title</th>\n",
       "      <th>content_rating</th>\n",
       "      <th>genre</th>\n",
       "      <th>duration</th>\n",
       "      <th>actors_list</th>\n",
       "      <th>title_length</th>\n",
       "    </tr>\n",
       "  </thead>\n",
       "  <tbody>\n",
       "    <tr>\n",
       "      <th>0</th>\n",
       "      <td>9.3</td>\n",
       "      <td>The Shawshank Redemption</td>\n",
       "      <td>R</td>\n",
       "      <td>Crime</td>\n",
       "      <td>142</td>\n",
       "      <td>[u'Tim Robbins', u'Morgan Freeman', u'Bob Gunt...</td>\n",
       "      <td>24</td>\n",
       "    </tr>\n",
       "    <tr>\n",
       "      <th>1</th>\n",
       "      <td>9.2</td>\n",
       "      <td>The Godfather</td>\n",
       "      <td>R</td>\n",
       "      <td>Crime</td>\n",
       "      <td>175</td>\n",
       "      <td>[u'Marlon Brando', u'Al Pacino', u'James Caan']</td>\n",
       "      <td>13</td>\n",
       "    </tr>\n",
       "    <tr>\n",
       "      <th>2</th>\n",
       "      <td>9.1</td>\n",
       "      <td>The Godfather: Part II</td>\n",
       "      <td>R</td>\n",
       "      <td>Crime</td>\n",
       "      <td>200</td>\n",
       "      <td>[u'Al Pacino', u'Robert De Niro', u'Robert Duv...</td>\n",
       "      <td>22</td>\n",
       "    </tr>\n",
       "    <tr>\n",
       "      <th>3</th>\n",
       "      <td>9.0</td>\n",
       "      <td>The Dark Knight</td>\n",
       "      <td>PG-13</td>\n",
       "      <td>Action</td>\n",
       "      <td>152</td>\n",
       "      <td>[u'Christian Bale', u'Heath Ledger', u'Aaron E...</td>\n",
       "      <td>15</td>\n",
       "    </tr>\n",
       "    <tr>\n",
       "      <th>4</th>\n",
       "      <td>8.9</td>\n",
       "      <td>Pulp Fiction</td>\n",
       "      <td>R</td>\n",
       "      <td>Crime</td>\n",
       "      <td>154</td>\n",
       "      <td>[u'John Travolta', u'Uma Thurman', u'Samuel L....</td>\n",
       "      <td>12</td>\n",
       "    </tr>\n",
       "  </tbody>\n",
       "</table>\n",
       "</div>"
      ],
      "text/plain": [
       "   star_rating                     title content_rating   genre  duration  \\\n",
       "0          9.3  The Shawshank Redemption              R   Crime       142   \n",
       "1          9.2             The Godfather              R   Crime       175   \n",
       "2          9.1    The Godfather: Part II              R   Crime       200   \n",
       "3          9.0           The Dark Knight          PG-13  Action       152   \n",
       "4          8.9              Pulp Fiction              R   Crime       154   \n",
       "\n",
       "                                         actors_list  title_length  \n",
       "0  [u'Tim Robbins', u'Morgan Freeman', u'Bob Gunt...            24  \n",
       "1    [u'Marlon Brando', u'Al Pacino', u'James Caan']            13  \n",
       "2  [u'Al Pacino', u'Robert De Niro', u'Robert Duv...            22  \n",
       "3  [u'Christian Bale', u'Heath Ledger', u'Aaron E...            15  \n",
       "4  [u'John Travolta', u'Uma Thurman', u'Samuel L....            12  "
      ]
     },
     "execution_count": 3,
     "metadata": {},
     "output_type": "execute_result"
    }
   ],
   "source": [
    "# Create a new colum with title length\n",
    "df[\"title_length\"]=df[\"title\"].str.len()\n",
    "df.head()"
   ]
  },
  {
   "cell_type": "code",
   "execution_count": 4,
   "id": "cae9c2e7",
   "metadata": {},
   "outputs": [
    {
     "name": "stdout",
     "output_type": "stream",
     "text": [
      "Title length mean is: 15.481103166496425\n",
      "Title length median is: 14.0\n",
      "Title length mode is: 12\n"
     ]
    }
   ],
   "source": [
    "# Calculate mean, median, and mode of the 'title_length' column\n",
    "\n",
    "# Mean\n",
    "title_length_mean=df[\"title_length\"].mean()\n",
    "# Median\n",
    "title_length_median=df[\"title_length\"].median()\n",
    "# Mode\n",
    "title_length_mode=df[\"title_length\"].mode()\n",
    "\n",
    "print(\"Title length mean is: \" + str(title_length_mean))\n",
    "print(\"Title length median is: \" + str(title_length_median))\n",
    "print(\"Title length mode is: \" + str(title_length_mode[0]))\n"
   ]
  },
  {
   "cell_type": "code",
   "execution_count": 5,
   "id": "69664a9b",
   "metadata": {},
   "outputs": [
    {
     "name": "stdout",
     "output_type": "stream",
     "text": [
      "Title length range is: 67\n",
      "Title length variance is: 72.1067488840288\n",
      "Title length standard deviation is: 8.491569282766807\n"
     ]
    }
   ],
   "source": [
    "# Calculate the range, variance, and standard deviation of 'title_length'\n",
    "\n",
    "# Min and Max\n",
    "title_length_min=df[\"title_length\"].min()\n",
    "title_length_max=df[\"title_length\"].max()\n",
    "\n",
    "# Range\n",
    "title_length_range=title_length_max-title_length_min\n",
    "\n",
    "#Variance\n",
    "title_length_var=df[\"title_length\"].var()\n",
    "\n",
    "# Standard deviation\n",
    "title_length_std=df[\"title_length\"].std()\n",
    "\n",
    "print(\"Title length range is: \" + str(title_length_range))\n",
    "print(\"Title length variance is: \" + str(title_length_var))\n",
    "print(\"Title length standard deviation is: \" + str(title_length_std))"
   ]
  },
  {
   "cell_type": "code",
   "execution_count": 6,
   "id": "6b9a931c",
   "metadata": {},
   "outputs": [
    {
     "name": "stdout",
     "output_type": "stream",
     "text": [
      "Title length skekness is: 1.5252523464631278\n",
      "Title length kurtosis is: 3.8122887061291544\n"
     ]
    }
   ],
   "source": [
    "# Calculate skewness and kurtosis of the 'title_length' column\n",
    "\n",
    "# Skewness\n",
    "title_length_skew=df[\"title_length\"].skew()\n",
    "\n",
    "# Kurtosis\n",
    "title_length_kurt=df[\"title_length\"].kurtosis()\n",
    "\n",
    "print(\"Title length skekness is: \" + str(title_length_skew))\n",
    "print(\"Title length kurtosis is: \" + str(title_length_kurt))"
   ]
  },
  {
   "cell_type": "code",
   "execution_count": 7,
   "id": "c0d09e68",
   "metadata": {},
   "outputs": [
    {
     "name": "stdout",
     "output_type": "stream",
     "text": [
      "63    Shortest title (1 char.) is: M\n",
      "Name: title, dtype: object\n",
      "48    Longest title (68 char.) is: Dr. Strangelove o...\n",
      "Name: title, dtype: object\n"
     ]
    }
   ],
   "source": [
    "# Print the shortest and longest title based on their length\n",
    "\n",
    "shortest_title=df[\"title\"].loc[df[\"title_length\"]==title_length_min]\n",
    "longest_title=df[\"title\"].loc[df[\"title_length\"]==title_length_max]\n",
    "\n",
    "print(\"Shortest title (\" + str(title_length_min)+ \" char.) is: \" + shortest_title)\n",
    "print(\"Longest title (\" + str(title_length_max)+ \" char.) is: \" + longest_title)"
   ]
  },
  {
   "cell_type": "code",
   "execution_count": 26,
   "id": "e86a1ced",
   "metadata": {},
   "outputs": [
    {
     "data": {
      "image/png": "[encoded data removed]",
      "text/plain": [
       "<Figure size 1000x500 with 1 Axes>"
      ]
     },
     "metadata": {},
     "output_type": "display_data"
    },
    {
     "data": {
      "text/plain": [
       "<BarContainer object of 50 artists>"
      ]
     },
     "execution_count": 26,
     "metadata": {},
     "output_type": "execute_result"
    }
   ],
   "source": [
    "# Plot your results\n",
    "plt.figure(figsize=(10,5))\n",
    "values, bins, bars = plt.hist(df[\"title_length\"], bins=50, edgecolor=\"black\", color=\"lightblue\")\n",
    "\n",
    "plt.axvline(title_length_mean, color=\"red\", linestyle=\"--\", label=\"Mean\")\n",
    "plt.axvline(title_length_median, color=\"blue\", linestyle=\"--\", label=\"Median\")\n",
    "plt.axvline(title_length_mode[0], color=\"green\", linestyle=\"--\", label=\"Mode\")\n",
    "plt.bar_label(bars, fontsize=8, color=\"black\")\n",
    "plt.text(70,95,\"Skewness: \" + str(round(title_length_skew,2)), ha=\"right\")\n",
    "plt.text(70,90,\"Kurtosis: \" + str(round(title_length_kurt,2)), ha=\"right\")\n",
    "plt.xlabel(\"Number of characters\")\n",
    "plt.ylabel(\"Frequency\")\n",
    "plt.title(\"Length of movie titles \")\n",
    "plt.legend()\n",
    "plt.legend()\n",
    "plt.show()\n",
    "bars"
   ]
  },
  {
   "cell_type": "markdown",
   "id": "eaf3ceb7",
   "metadata": {},
   "source": [
    "---\n",
    "\n",
    "## Exercise 2 – Manual Calculation of Standard Deviation\n",
    "\n",
    "In this exercise, you will manually calculate the standard deviation by selecting five actual titles from the movie dataset you loaded earlier.\n"
   ]
  },
  {
   "cell_type": "code",
   "execution_count": 64,
   "id": "3005c0f9",
   "metadata": {},
   "outputs": [],
   "source": [
    "# Create a list with 5 actual values from df['title_length'], for example: [10, 13, 14, 18, 22]\n",
    "sample_length=5\n",
    "random_init=np.random.randint(0,len(df[\"title_length\"])-sample_length)\n",
    "my_list=df[\"title_length\"][random_init:random_init+sample_length]\n",
    "my_list=np.array(my_list)"
   ]
  },
  {
   "cell_type": "code",
   "execution_count": 65,
   "id": "d96b771f",
   "metadata": {},
   "outputs": [
    {
     "name": "stdout",
     "output_type": "stream",
     "text": [
      "Title length mean of my sample is: 25.6\n"
     ]
    }
   ],
   "source": [
    "# Calculate the mean of the 5 values\n",
    "total=0\n",
    "for x in my_list:\n",
    "    total = total + x\n",
    "my_mean=total/sample_length\n",
    "\n",
    "print(\"Title length mean of my sample is: \" + str(my_mean))"
   ]
  },
  {
   "cell_type": "code",
   "execution_count": null,
   "id": "346d0dc5",
   "metadata": {},
   "outputs": [
    {
     "name": "stdout",
     "output_type": "stream",
     "text": [
      "Squared diff. of my sample are: [501.76 153.76  73.96 134.56 213.16]\n"
     ]
    }
   ],
   "source": [
    "# Calculate the squared differences with respect to the mean\n",
    "my_squared_diff=[]\n",
    "for x in my_list:\n",
    "    my_squared_diff.append((x-my_mean)**2)\n",
    "my_squared_diff=np.array(my_squared_diff)\n",
    "\n",
    "print(\"Squared diff. of my sample are: \" + str(my_squared_diff))"
   ]
  },
  {
   "cell_type": "code",
   "execution_count": null,
   "id": "f56517ff",
   "metadata": {},
   "outputs": [],
   "source": [
    "# Calculate the variance (average of the squared differences) and its square root to obtain the standard deviation\n",
    "\n",
    "# Poblational variance\n",
    "sigma_2=my_squared_diff.sum()/sample_length\n",
    "#Poblational standard deviation\n",
    "sigma=sigma_2.sqr()\n",
    "\n",
    "# Sample variance\n",
    "s_2=my_squared_diff.sum()/(sample_length-1)"
   ]
  }
 ],
 "metadata": {
  "kernelspec": {
   "display_name": "Python 3",
   "language": "python",
   "name": "python3"
  },
  "language_info": {
   "codemirror_mode": {
    "name": "ipython",
    "version": 3
   },
   "file_extension": ".py",
   "mimetype": "text/x-python",
   "name": "python",
   "nbconvert_exporter": "python",
   "pygments_lexer": "ipython3",
   "version": "3.11.4"
  }
 },
 "nbformat": 4,
 "nbformat_minor": 5
}
